{
 "cells": [
  {
   "cell_type": "markdown",
   "metadata": {
    "id": "x2c6L-Td-rva"
   },
   "source": [
    "# **1) Introducción**"
   ]
  },
  {
   "cell_type": "markdown",
   "metadata": {
    "id": "s3TM4UOq7KK7"
   },
   "source": [
    "El problema al que nos enfrentamos es programar un robot para que, dado un mapa (que simula un almacén), coja las diferentes mesas (inventarios) y las lleve a su puesto de recogida por parte de los empleados de esa empresa. Este robot, deberá buscar el camino más corto posible, de forma rápida y evitando chocar con las paredes del almacén.\n",
    "\n",
    "Para desarrollar el código, hemos hecho la clase *Nodo* para transformar las diferentes posiciones del mapa en un grafo, y la función *AEstrella*, para que el robot pueda moverse por el mapa de la forma más óptima posible dada la heurística a utilizar en el enunciado, calculando qué camino tomar en cada caso en base al grafo formado. Además hemos realizado otras funciones de lectura y visualización del mapa, de forma que se pueda seguir de manera visual la secuencia de acciones tomada por el robot.\n",
    "\n",
    "Por último tenemos la implementación principal del código, en la cual pasamos el mapa al robot, con los distintos puntos de recogida y entrega. Esta implementación principal es la que, mediante búsqueda heurística, va elaborando poco a poco el plan de actuación del robot, eligiendo el camino más corto a los diferentes puntos, en cada caso."
   ]
  },
  {
   "cell_type": "markdown",
   "metadata": {
    "id": "yyx3-5Bf-88J"
   },
   "source": [
    "# **2) Desarrollo de la ejecución**"
   ]
  },
  {
   "cell_type": "markdown",
   "metadata": {
    "id": "a__o_5JQArVv"
   },
   "source": [
    "## **2.1) Asunciones**\n",
    "\n",
    "Para el desarrollo del código hemos realizado las siguientes asunciones:\n",
    "\n",
    "1. El robot se ha contemplado similar al del vídeo del enunciado del ejercicio, por tanto, se considerará que éste se deberá situar en la misma casilla que el inventario y su zona de depósito a la hora de recogerlo/dejarlo.\n",
    "2. Se considera que, cuando el robot deja el inventario en el depósito, éste es manipulado y retirado automáticamente por un operador. Por tanto, ese espacio en el mapa se considerará como \".\" o cero para futuros movimientos del robot, indicando que continuará siendo transitable por el robot, pero que ya no corresponderá a ninguna posición objetivo donde se deba de mover el robot (de esta forma es más realista).\n",
    "\n",
    "3. Se estima que todos los puntos objetivo (tanto para recogida como para depósito) son alcanzables por el robot y que no aparecerán obstáculos o zonas consideradas como \"pared\" que no estuvieran en un principio en el mapa, por lo que el plan siempre tendrá solución.\n",
    "4. Se contempla que el robot conoce las posiciones de los objetos y el punto de recogida del paquete que está portando antes de comenzar a elaborar el plan. Las listas de posiciones de recogida y dejada de piezas, por tanto, se inicializarán con los valores correspondientes al principio del programa, basándonos en la teoría que el encargado de Amazon correspondiente sería quien los hubiera introducido vía software propio del controlador del robot.\n",
    "5. Se estima que el robot funcionará por búsqueda de objetos de manera reactiva, por lo que su plan de acción se irá construyendo de forma rápida y objetivo a objetivo, calculando qué inventario se encuentra más cercano y empleando, para ello, la heurística de Manhattan.\n",
    "6. Se considera que el robot puede pasar por encima de las casillas que contienen los inventarios, aunque éste tenga cargado otro inventario. Además, las posiciones marcadas en el mapa como zona objetivo o zona de recogida también serán transitables por el robot. Esta asunción no sería realista ya que, en la realidad, no sería lógico que pudiera pasar el robot cargado por encima de otro inventario, pero no se ha contemplado para el ejercicio porque, en nuestro caso, siempre cogerá primero M2 antes que M1 ya que la heurística para recoger el primero será menor a la del segundo."
   ]
  },
  {
   "cell_type": "markdown",
   "metadata": {
    "id": "R69m_ProA6zF"
   },
   "source": [
    "## **2.2) Código y explicación**"
   ]
  },
  {
   "cell_type": "markdown",
   "metadata": {
    "id": "cCpjmmqy54SG"
   },
   "source": [
    "Primero generamos un archivo .txt del mapa de la actividad en el mismo path donde se encuentra el archivo. De esta manera, se consigue un código que genera el mapa (en el mismo directorio, un archivo .txt) que se usa para la resolución del problema."
   ]
  },
  {
   "cell_type": "code",
   "execution_count": null,
   "metadata": {
    "id": "i-2ciC-p0Hu7"
   },
   "outputs": [],
   "source": [
    "import os\n",
    "mapaActividad2 = os.getcwd() # este comando busca el path donde se encuentra el archivo.\n",
    "\n",
    "file = open (\"mapaActividad2.txt\", \"w\") # w escritura , r solo lectura. Usamos escritura porque vamos a sobreescribirlo. \n",
    "\n",
    "file.write(\"######\" +os.linesep)\n",
    "file.write(\"#A#.C#\" +os.linesep)\n",
    "file.write(\"#.#..#\" +os.linesep)\n",
    "file.write(\"#B.R.#\" +os.linesep)\n",
    "file.write(\"#.ZYX#\" +os.linesep)\n",
    "file.write(\"######\" +os.linesep)\n",
    "file.close()"
   ]
  },
  {
   "cell_type": "markdown",
   "metadata": {
    "id": "tN2g8VBk8EOP"
   },
   "source": [
    "Comenzamos definiendo la clase Nodo (Roy, 2019) para generar objetos sobre los que estructurar el grafo en el programa, y definiendo las funciones de distancia entre dos nodos (Distancia Manhattan), que será la heurística del problema, y de buscar posición, para saber la posición inicial del robot en el mapa."
   ]
  },
  {
   "cell_type": "code",
   "execution_count": null,
   "metadata": {
    "id": "dr3-cSh-0IYL"
   },
   "outputs": [],
   "source": [
    "class Nodo:\n",
    "    def __init__(self, posicion=[0, 0], anterior=None):\n",
    "        self.posicion = posicion\n",
    "        self.anterior = anterior\n",
    "        #h: Estimación del coste adicional necesario para alcanzar el nodo objetivo desde el nodo actual\n",
    "        self.h = distancia(self.posicion, pos_objetivo)\n",
    " \n",
    "        if self.anterior == None:\n",
    "            self.g = 0\n",
    "        else:\n",
    "          #g: Medida del coste para ir desde el estado inicial hasta el nodo actual\n",
    "            self.g = self.anterior.g + 1\n",
    "          #f: Suma de g y h\n",
    "        self.f = self.g + self.h\n",
    "\n",
    "\n",
    "# Distancia Manhattan: Suma de las diferencias absolutas de las coordenadas entre dos puntos.\n",
    "def distancia(x, y):\n",
    "    return abs(x[0] - y[0]) + abs(x[1] - y[1]) \n",
    "\n",
    "# Función para encontrar un valor dado en el mapa.\n",
    "def buscarPos(x, mapa):\n",
    "    for i in range(len(mapa[0])):\n",
    "        for j in range(len(mapa[1])):\n",
    "            if mapa[i][j] == x:\n",
    "                return [i, j]\n",
    "    return 0"
   ]
  },
  {
   "cell_type": "markdown",
   "metadata": {
    "id": "xgSq2tTJ8A6S"
   },
   "source": [
    "A continuación definimos una serie de funciones que nos van a servir para ejecutar nuestro algoritmo de AEstrella (A*) (Guerra, 2010). \n",
    "\n",
    "1. vecinos: busca los nodos vecinos a los que se puede acceder\n",
    "2. f_menor: elimina el elemento con menor f de la lista abierta y lo pasa a la lista cerrada\n",
    "3. en_lista: comprueba si un nodo está en una lista\n",
    "4. ruta: gestiona los nodos vecinos\n",
    "5. aobjetivo: comprueba si el objetivo está en la lista abierta\n",
    "6. camino: devuelve una lista con las posiciones del camino a seguir"
   ]
  },
  {
   "cell_type": "code",
   "execution_count": null,
   "metadata": {
    "id": "dfrKH2qbipd-"
   },
   "outputs": [],
   "source": [
    "# Devuelve una lista con los nodos vecinos a los que podemos acceder.\n",
    "def vecinos(nodo, mapa):\n",
    "    vecinos = []\n",
    "    x=nodo.posicion[0]\n",
    "    y=nodo.posicion[1]\n",
    "    #Si se puede mover a la derecha\n",
    "    if mapa[x+1][y] != 1:\n",
    "        vecinos.append(Nodo([x+1,y], nodo))\n",
    "    #Si se puede mover a la izquierda\n",
    "    if mapa[x-1][y] != 1:\n",
    "        vecinos.append(Nodo([x-1, y], nodo))\n",
    "    #Si se puede mover hacia abajo\n",
    "    if mapa[x][y-1] != 1:\n",
    "        vecinos.append(Nodo([x, y-1], nodo))\n",
    "    #Si se puede mover hacia arriba\n",
    "    if mapa[x][y+1] != 1:\n",
    "        vecinos.append(Nodo([x, y+1], nodo))\n",
    "    return vecinos\n",
    "\n",
    "# Elimina el elemento de la lista abierta con menor f y lo pasa a la lista cerrada\n",
    "def f_menor(l_abierta,l_cerrada):\n",
    "    a = l_abierta[0]\n",
    "    n = 0\n",
    "    for i in range(1, len(l_abierta)):\n",
    "        if l_abierta[i].f < a.f:\n",
    "            a = l_abierta[i]\n",
    "            n = i\n",
    "    l_cerrada.append(l_abierta[n])\n",
    "    del l_abierta[n]\n",
    "\n",
    "# Comprueba si un nodo está en una lista.\n",
    "def en_lista(nodo, lista):\n",
    "    for i in range(len(lista)):\n",
    "        if nodo.posicion == lista[i].posicion:\n",
    "            return 1\n",
    "    return 0\n",
    "\n",
    "# Gestiona los vecinos del nodo seleccionado.\n",
    "def ruta(nodos, l_abierta, l_cerrada, select):\n",
    "    for i in range(len(nodos)):\n",
    "        nodo = nodos[i]\n",
    "        if en_lista(nodo, l_cerrada):\n",
    "            continue\n",
    "        elif not en_lista(nodo, l_abierta):\n",
    "            l_abierta.append(nodo)\n",
    "        else:\n",
    "            if select.g+1 < nodo.g:\n",
    "                for j in range(len(l_abierta)):\n",
    "                    if nodo.posicion == l_abierta[j].posicion:\n",
    "                        del l_abierta[j]\n",
    "                        l_abierta.append(nodo)\n",
    "                        break\n",
    "\n",
    "# Comprueba si el objetivo objetivo está en la lista abierta.\n",
    "def aobjetivo(l_abierta, nodofin):\n",
    "    for i in range(len(l_abierta)):\n",
    "        if nodofin.posicion == l_abierta[i].posicion:\n",
    "            return 0\n",
    "    return 1\n",
    "\n",
    "# Retorna una lista con las posiciones del camino a seguir.\n",
    "def camino(l_abierta, nodofin):\n",
    "    for i in range(len(l_abierta)):\n",
    "        if nodofin.posicion == l_abierta[i].posicion:\n",
    "            objetivo = l_abierta[i]\n",
    "\n",
    "    camino = []\n",
    "    while objetivo.anterior != None:\n",
    "        camino.append(objetivo.posicion)\n",
    "        objetivo = objetivo.anterior\n",
    "    camino.reverse()\n",
    "    return camino\n",
    "\n"
   ]
  },
  {
   "cell_type": "markdown",
   "metadata": {
    "id": "2pfh-_cnKBaE"
   },
   "source": [
    "Una vez definidas estas funciones, se genera la función AEstrella, donde implementaremos la heurística del problema para que el robot decida que camino tomar. Este algoritmo se basa en la búsqueda general. Se debe añadir el valor g a cada nodo expandido y posteriormente ordenar la lista abierta en base a los valores crecientes de f. Se añadirán, entonces, los nuevos nodos en la lista abierta según sus valores crecientes de f. \n"
   ]
  },
  {
   "cell_type": "code",
   "execution_count": null,
   "metadata": {
    "id": "_4X4OlZQKENE"
   },
   "outputs": [],
   "source": [
    "\n",
    "    def AEstrella (mapa,inicio,fin)# Nodos de inicio y fin.\n",
    "    ninicio = Nodo(inicio)\n",
    "    nfin = Nodo(fin)\n",
    "    \n",
    "    # Definimos las listas ABIERTA y CERRADA:\n",
    "    #Lista abierta: Nodos que se generan y a los que se les aplica la función heurística. Aún no han sido examinados.\n",
    "    lista_abierta = []\n",
    "    #Lista cerrada: Nodos que ya se han examinado. \n",
    "    #Se necesita para comprobar si un nuevo nodo ya ha sido generado anteriormente.\n",
    "    lista_cerrada = []\n",
    "    \n",
    "    # Añadir vecinos a la lista abierta\n",
    "    lista_abierta += vecinos(ninicio, mapa)\n",
    "    \n",
    "    # Añadir nodo inicial a la lista cerrada.\n",
    "    lista_cerrada.append(ninicio)\n",
    "                             \n",
    "    # El algoritmo continúa mientras que no estemos en la lista cerrada.\n",
    "    while aobjetivo(lista_abierta,nfin):\n",
    "      \n",
    "      # Analiza el último elemento de la lista cerrada.\n",
    "        f_menor(lista_abierta, lista_cerrada)\n",
    "        select = lista_cerrada[-1]\n",
    "        nodos = vecinos(select,mapa)\n",
    "        ruta(nodos,lista_abierta,lista_cerrada,select\n",
    "    return camino(lista_abierta,nfin)"
   ]
  },
  {
   "cell_type": "markdown",
   "metadata": {
    "id": "Aet9s1S18qKg"
   },
   "source": [
    "Para dejar un registro en pantalla de los pasos que ha seguido el robot, se definen algunas funciones de interés a la hora de visualizar el mapa:"
   ]
  },
  {
   "cell_type": "code",
   "execution_count": null,
   "metadata": {
    "id": "bPc8dWmY0IJL"
   },
   "outputs": [],
   "source": [
    "# Quita el ultimo carácter de una lista. Lo necesitamos para poder mostrar el mapa de forma correcta.\n",
    "def quitarUltimo(lista):\n",
    "    for i in range(len(lista)):\n",
    "        lista[i] = lista[i][:-1]\n",
    "    return lista\n",
    "\n",
    "# Función para mostrar el mapa\n",
    "def visualizarMapa(mapa):\n",
    "    for i in range(len(mapa)):\n",
    "        print(mapa[i])\n",
    "\n",
    "# Función para leer el mapa de tal forma que se pueda operar con él.\n",
    "def leerMapa(mapaRAW):\n",
    "    mapa= []\n",
    "    for r in range(len(mapaRAW[0])):\n",
    "        mapa.append([])\n",
    "          for c in range(len(mapaRAW[1])):\n",
    "            #print(c)\n",
    "            if mapaRAW[r][c] == '.':\n",
    "                mapa[r].append(0)\n",
    "            if mapaRAW[r][c] == \"#\":\n",
    "                mapa[r].append(1)\n",
    "            if mapaRAW[r][c] == \"R\":\n",
    "                mapa[r].append(2)\n",
    "            if mapaRAW[r][c] == \"A\" or mapaRAW[r][c] == \"B\" or mapaRAW[r][c] == \"C\":\n",
    "                mapa[r].append(3)\n",
    "            if mapaRAW[r][c] == \"X\" or mapaRAW[r][c] == \"Y\" or mapaRAW[r][c] == \"Z\":\n",
    "                mapa[r].append(4)\n",
    "        return mapa\n",
    "\n",
    "# Función para sumar 1 a los elementos del mapa. \n",
    "# Esto se hace porque vamos a considerar las paredes exteriores y por tanto añadimos una fila y una columna.\n",
    "def convertirObjetivos(objetivos,depositos):\n",
    "    for a in range(len(objetivos)):\n",
    "        for b in range(len(objetivos[a])):\n",
    "            objetivos[a][b] = objetivos[a][b] + 1\n",
    "            depositos[a][b] = depositos[a][b] + 1\n",
    "    return [objetivos,depositos]"
   ]
  },
  {
   "cell_type": "markdown",
   "metadata": {
    "id": "fYyDM2hr8zMn"
   },
   "source": [
    "Creamos dos funciones para que impriman los pasos que el robot va a estar realizando.\n",
    "1. print_Coger: para imprimir el camino de ida hacia la mesa y la acción de coger la mesa\n",
    "2. print_Dejar: imprime el camino de ida al depósito y la acción de dejar la mesa.\n",
    "\n",
    "\n"
   ]
  },
  {
   "cell_type": "code",
   "execution_count": null,
   "metadata": {
    "id": "S2LTWJMd0Ufb"
   },
   "outputs": [],
   "source": [
    "# Muestra los pasos seguidos hasta llegar y coger el objetivo.\n",
    "def print_Coger(busqueda_camino, pos_objetivo):\n",
    "    print(\"\\n\")\n",
    "    for i in range(len(busqueda_camino)):\n",
    "        print(\"-Mover Robot a la fila '{}' y columna '{}'\".format(busqueda_camino[i][0], busqueda_camino[i][1]))\n",
    "        if busqueda_camino[i] == pos_objetivo:          \n",
    "            print(\"-Coger '{}' en la fila '{}' y columna '{}'\".format(nombres[objetivo],busqueda_camino[i][0], \n",
    "                                                                      busqueda_camino[i][1]))\n",
    "        \n",
    "# Muestra los pasos seguidos hasta llegar y dejar el objetivo.\n",
    "def print_Dejar(busqueda_camino, pos_objetivo):\n",
    "    for i in range(len(busqueda_camino)):\n",
    "        print(\"-Mover Robot a la fila '{}' y columna '{}'\".format(busqueda_camino[i][0], busqueda_camino[i][1]))\n",
    "        if busqueda_camino[i] == pos_objetivo:\n",
    "            print(\"-Dejar '{}' en la fila '{}' y columna '{}'\".format(nombres[objetivo],busqueda_camino[i][0], \n",
    "                                                                      busqueda_camino[i][1])) "
   ]
  },
  {
   "cell_type": "markdown",
   "metadata": {
    "id": "XoXajWZr84DF"
   },
   "source": [
    "Finalmente, pasamos la lista de objetivos y sus respectivos depósitos al robot para que este decida el órden de las recogidas y las lleve al lugar de recogida."
   ]
  },
  {
   "cell_type": "markdown",
   "metadata": {
    "id": "nd4JB09X-1UD"
   },
   "source": [
    "A continuación, se especifican las posiciones de los tres inventarios M1, M2 y M3, tanto en su posición inicial en el mapa del enunciado, como en la posición final en la que se deben ubicar. Para recoger y asociar de forma sencilla las posiciones a cada inventario, se crearán tres listas con toda la información requerida por cada uno de estos, de forma que el primer valor de cada lista corresponderá al inventario 1, la segunda al inventario 2 y así sucesivamente."
   ]
  },
  {
   "cell_type": "code",
   "execution_count": null,
   "metadata": {
    "id": "S4oqf66U-rwV"
   },
   "outputs": [],
   "source": [
    "nombres =[\"M1\",\"M2\",\"M3\"]\n",
    "objetivos=[[0,0],[2,0],[0,3]]\n",
    "depositos=[[3,3],[3,2],[3,1]]\n",
    "cajasAlmacenadas=0"
   ]
  },
  {
   "cell_type": "markdown",
   "metadata": {
    "id": "BjiUwrxQ-3Jz"
   },
   "source": [
    "Se muestran los objetivos a dónde quiere llegar nuestro robot a recoger los paquetes, y los depositos donde debe dejar dichos paquetes:"
   ]
  },
  {
   "cell_type": "code",
   "execution_count": null,
   "metadata": {
    "colab": {
     "base_uri": "https://localhost:8080/"
    },
    "id": "HaGoLIm7-3gK",
    "outputId": "8945c610-d266-490c-bb15-bc0a1683158c"
   },
   "outputs": [
    {
     "name": "stdout",
     "output_type": "stream",
     "text": [
      "Los objetivos se encuentran en las posiciones: '[[1, 1], [3, 1], [1, 4]]' y los depósitos en las posiciones '[[4, 4], [4, 3], [4, 2]]'\n"
     ]
    }
   ],
   "source": [
    "objetivos,depositos = convertirObjetivos(objetivos, depositos)\n",
    "print(\"Los objetivos se encuentran en las posiciones: '{}' y los depósitos en las posiciones '{}'\".format(objetivos,\n",
    "                                                                                                          depositos))\n"
   ]
  },
  {
   "cell_type": "markdown",
   "metadata": {
    "id": "H0feA0LXKq1G"
   },
   "source": [
    "Se visualiza el mapa que tenemos y se traduce en un formato con el que podamos operar."
   ]
  },
  {
   "cell_type": "code",
   "execution_count": null,
   "metadata": {
    "colab": {
     "base_uri": "https://localhost:8080/"
    },
    "id": "B9u-FbqJ--Si",
    "outputId": "db1c3fe2-160c-4c66-8d2c-b8299d034d1f"
   },
   "outputs": [
    {
     "name": "stdout",
     "output_type": "stream",
     "text": [
      "* Mapa de la actividad\n",
      "\n",
      "######\n",
      "#A#.C#\n",
      "#.#..#\n",
      "#B.R.#\n",
      "#.ZYX#\n",
      "######\n",
      "\n",
      "* Mapa con el que va a trabajar nuestro algoritmo: \n",
      "\n",
      "[1, 1, 1, 1, 1, 1]\n",
      "[1, 3, 1, 0, 3, 1]\n",
      "[1, 0, 1, 0, 0, 1]\n",
      "[1, 3, 0, 2, 0, 1]\n",
      "[1, 0, 4, 4, 4, 1]\n",
      "[1, 1, 1, 1, 1, 1]\n"
     ]
    }
   ],
   "source": [
    "mapaRaw = open('mapaActividad2.txt', \"r\")\n",
    "mapaRaw = mapaRaw.readlines()\n",
    "mapaRaw = quitarUltimo(mapaRaw)\n",
    "\n",
    "\n",
    "print(\"* Mapa de la actividad\\n\")\n",
    "visualizarMapa(mapaRaw)\n",
    "mapaRaw= leerMapa(mapaRaw)\n",
    "\n",
    "print(\"\\n* Mapa con el que va a trabajar nuestro algoritmo: \\n\")\n",
    "visualizarMapa(mapaRaw)"
   ]
  },
  {
   "cell_type": "markdown",
   "metadata": {
    "id": "vivfiH8m_CiS"
   },
   "source": [
    "Lo que tenemos en este mapa es:\n",
    "* 0 - Posiciones en las que el robot se puede mover libremente.\n",
    "* 1 - Posiciones a las cuales el robot no puede llegar (paredes).\n",
    "* 2 - Posición del robot\n",
    "* 3 - Posiciones a las que tiene que ir el robot para recoger los paquetes.\n",
    "* 4-  Posiciones a las que tiene que ir el robot a dejar dichos paquetes."
   ]
  },
  {
   "cell_type": "markdown",
   "metadata": {
    "id": "LlR__8fB_J9i"
   },
   "source": [
    "Finalmente, se muestran los pasos que ha seguido el robot. Se ha de tener en cuenta que contamos con que existe la fila 0 y la columna 0."
   ]
  },
  {
   "cell_type": "code",
   "execution_count": null,
   "metadata": {
    "colab": {
     "base_uri": "https://localhost:8080/"
    },
    "id": "bY3nVJOH0aBT",
    "outputId": "52cd8075-e595-4895-fc30-46125607b154"
   },
   "outputs": [
    {
     "name": "stdout",
     "output_type": "stream",
     "text": [
      "\n",
      "Pasos a seguir para la resolución del problema: \n",
      "\n",
      "[1, 1, 1, 1, 1, 1]\n",
      "[1, 3, 1, 0, 3, 1]\n",
      "[1, 0, 1, 0, 0, 1]\n",
      "[1, 3, 0, 2, 0, 1]\n",
      "[1, 0, 4, 4, 4, 1]\n",
      "[1, 1, 1, 1, 1, 1]\n",
      "-Robot inicialmente situado en fila '3' y columna '3'\n",
      "\n",
      "\n",
      "-Mover Robot a la fila '3' y columna '2'\n",
      "-Mover Robot a la fila '3' y columna '1'\n",
      "-Coger 'M2' en la fila '3' y columna '1'\n",
      "[1, 1, 1, 1, 1, 1]\n",
      "[1, 3, 1, 0, 3, 1]\n",
      "[1, 0, 1, 0, 0, 1]\n",
      "[1, 2, 0, 0, 0, 1]\n",
      "[1, 0, 4, 4, 4, 1]\n",
      "[1, 1, 1, 1, 1, 1]\n",
      "\n",
      "\n",
      "-Mover Robot a la fila '4' y columna '1'\n",
      "-Mover Robot a la fila '4' y columna '2'\n",
      "-Mover Robot a la fila '4' y columna '3'\n",
      "-Dejar 'M2' en la fila '4' y columna '3'\n",
      "[1, 1, 1, 1, 1, 1]\n",
      "[1, 3, 1, 0, 3, 1]\n",
      "[1, 0, 1, 0, 0, 1]\n",
      "[1, 0, 0, 0, 0, 1]\n",
      "[1, 0, 4, 2, 4, 1]\n",
      "[1, 1, 1, 1, 1, 1]\n",
      "\n",
      "\n",
      "-Mover Robot a la fila '3' y columna '3'\n",
      "-Mover Robot a la fila '2' y columna '3'\n",
      "-Mover Robot a la fila '1' y columna '3'\n",
      "-Mover Robot a la fila '1' y columna '4'\n",
      "-Coger 'M3' en la fila '1' y columna '4'\n",
      "[1, 1, 1, 1, 1, 1]\n",
      "[1, 3, 1, 0, 2, 1]\n",
      "[1, 0, 1, 0, 0, 1]\n",
      "[1, 0, 0, 0, 0, 1]\n",
      "[1, 0, 4, 0, 4, 1]\n",
      "[1, 1, 1, 1, 1, 1]\n",
      "\n",
      "\n",
      "-Mover Robot a la fila '2' y columna '4'\n",
      "-Mover Robot a la fila '3' y columna '4'\n",
      "-Mover Robot a la fila '4' y columna '4'\n",
      "-Mover Robot a la fila '4' y columna '3'\n",
      "-Mover Robot a la fila '4' y columna '2'\n",
      "-Dejar 'M3' en la fila '4' y columna '2'\n",
      "[1, 1, 1, 1, 1, 1]\n",
      "[1, 3, 1, 0, 0, 1]\n",
      "[1, 0, 1, 0, 0, 1]\n",
      "[1, 0, 0, 0, 0, 1]\n",
      "[1, 0, 2, 0, 4, 1]\n",
      "[1, 1, 1, 1, 1, 1]\n",
      "\n",
      "\n",
      "-Mover Robot a la fila '3' y columna '2'\n",
      "-Mover Robot a la fila '3' y columna '1'\n",
      "-Mover Robot a la fila '2' y columna '1'\n",
      "-Mover Robot a la fila '1' y columna '1'\n",
      "-Coger 'M1' en la fila '1' y columna '1'\n",
      "[1, 1, 1, 1, 1, 1]\n",
      "[1, 2, 1, 0, 0, 1]\n",
      "[1, 0, 1, 0, 0, 1]\n",
      "[1, 0, 0, 0, 0, 1]\n",
      "[1, 0, 0, 0, 4, 1]\n",
      "[1, 1, 1, 1, 1, 1]\n",
      "\n",
      "\n",
      "-Mover Robot a la fila '2' y columna '1'\n",
      "-Mover Robot a la fila '3' y columna '1'\n",
      "-Mover Robot a la fila '4' y columna '1'\n",
      "-Mover Robot a la fila '4' y columna '2'\n",
      "-Mover Robot a la fila '4' y columna '3'\n",
      "-Mover Robot a la fila '4' y columna '4'\n",
      "-Dejar 'M1' en la fila '4' y columna '4'\n",
      "[1, 1, 1, 1, 1, 1]\n",
      "[1, 0, 1, 0, 0, 1]\n",
      "[1, 0, 1, 0, 0, 1]\n",
      "[1, 0, 0, 0, 0, 1]\n",
      "[1, 0, 0, 0, 2, 1]\n",
      "[1, 1, 1, 1, 1, 1]\n",
      "\n",
      "\n",
      "Colocadas todas las cajas en su lugar correspondiente.\n",
      "Fin del proceso.\n"
     ]
    }
   ],
   "source": [
    "print(\"\\nPasos a seguir para la resolución del problema: \\n\")\n",
    "visualizarMapa(mapaRaw)\n",
    "robot=buscarPos(2,mapaRaw)\n",
    "print(\"-Robot inicialmente situado en fila '{}' y columna '{}'\".format(robot[0],robot[1]))\n",
    "mapaRaw[robot[0]][robot[1]]= 0\n",
    "numeroObjetivos= len(objetivos)\n",
    "pos_anterior=[]\n",
    "while (cajasAlmacenadas < numeroObjetivos):\n",
    "    costeAnterior=99999\n",
    "    objetivo=0\n",
    "    pos_objetivo=[]\n",
    "    #Seleccionamos el menor coste\n",
    "    for x in range(len(objetivos)):\n",
    "        coste= distancia(robot,objetivos[x])\n",
    "        if coste<costeAnterior:\n",
    "            costeAnterior=coste\n",
    "            objetivo = x\n",
    "    pos_objetivo=objetivos[objetivo]\n",
    "    # Busca el menor camino hacia cualquier paquete\n",
    "    busqueda = AEstrella(mapaRaw, robot, pos_objetivo)\n",
    "    print_Coger(busqueda,pos_objetivo)\n",
    "    if len(pos_anterior)>0:\n",
    "        mapaRaw[pos_anterior[0]][pos_anterior[1]]= 0\n",
    "    mapaRaw[pos_objetivo[0]][pos_objetivo[1]]= 2\n",
    "    pos_anterior=pos_objetivo\n",
    "    visualizarMapa(mapaRaw)\n",
    "    print(\"\\n\")\n",
    "\n",
    "    # Cambiamos la posición del robot.\n",
    "    robot = objetivos[objetivo]    \n",
    "    \n",
    "    # Busca el menor camino hacia el lugar donde debe dejar el paquete correspondiente.\n",
    "    busqueda = AEstrella(mapaRaw, robot, depositos[objetivo])\n",
    "    print_Dejar(busqueda,depositos[objetivo])  \n",
    "    mapaRaw[pos_anterior[0]][pos_anterior[1]]= 0 \n",
    "    mapaRaw[depositos[objetivo][0]][depositos[objetivo][1]]=2\n",
    "    pos_anterior=depositos[objetivo]\n",
    "    visualizarMapa(mapaRaw)\n",
    "    robot=depositos[objetivo] \n",
    "\n",
    "    # Eliminamos tanto objetivos como depósitos.\n",
    "    objetivos.remove(objetivos[objetivo])\n",
    "    nombres.remove(nombres[objetivo])\n",
    "    depositos.remove(depositos[objetivo])\n",
    "    cajasAlmacenadas+=1\n",
    "\n",
    "    \n",
    "\n",
    "print(\"\\n\\nColocadas todas las cajas en su lugar correspondiente.\\nFin del proceso.\")"
   ]
  },
  {
   "cell_type": "markdown",
   "metadata": {
    "id": "hqGv2WRp_ndd"
   },
   "source": [
    "# **3) Dificultades encontradas**"
   ]
  },
  {
   "cell_type": "markdown",
   "metadata": {
    "id": "rwhU-qII_saF"
   },
   "source": [
    "* Llevó mucho tiempo intentar leer el archivo para analizar las casillas una a una ya que daba errores por la inicialización de las matrices. Finalmente, se optó por crear una lista y cada vez que se leía una fila del archivo .txt se agregaba a dicha lista. Además, en la lectura del .txt se tenía que quitar el ultimo carácter correspondiente al \\n de salto de línea. Para solucionar esto se creó la función: quitarUltimo.\n",
    "*\tA la hora de grabar los movimientos que hacía el robot, tanto al recoger los objetivos, como para dejarlos en su posición, se buscó actualizar la posición del robot en el mapa para registrar dónde está el robot en ese paso (el 2 en dicha posición). En un principio, se quedaban grabados en el mapa múltiples 2 en posiciones en las que había pasado el robot, cuando debían de ser 0, pues el robot ya no se encontraba en dicha posición. Para que la representación del mapa de forma gráfica fuera correcta, se tuvo que generar una variable auxiliar (*pos_anterior*) para poder solventarlo.\n",
    "*\tAl añadir las paredes exteriores, la matriz cambia de ser 4x4 a 6x6. Por ello, todas las posiciones cambian y se debe definir una función para arreglar este problema.\n",
    "\n",
    "\n",
    "\n",
    "\n",
    "\n",
    "\n"
   ]
  },
  {
   "cell_type": "markdown",
   "metadata": {
    "id": "ursUiMjW_Qkm"
   },
   "source": [
    "# **4) Conclusiones**"
   ]
  },
  {
   "cell_type": "markdown",
   "metadata": {
    "id": "z21zhZkB_K5S"
   },
   "source": [
    "* El robot ha conseguido llevar los tres inventarios a su destino en el mapa.\n",
    "\n",
    "* El robot no se sale del mapa ni tampoco atraviesa las paredes definidas en éste, y además, para este ejericio en concreto, genera la mejor actuación elaborando un plan óptimo y encontrando la solución del problema. Se puede concluir, entonces, que el problema se ha resuelto satisfactoriamente.\n",
    "\n",
    "* Manualmente, se calculó que para que se diese el número menor de pasos posibles, no importa si el robot empieza cogiendo M2 o M3, ya que en ambos da 24 pasos. Nuestro programa, al basarse en la distancia de Manhattan, ejecuta M2-M3-M1 en lugar de M3-M2-M1. En ambos casos, aún así, los pasos totales que se dan son 24.\n",
    "Manualmente, se puede calcular que si el robot pudiese desplazarse sin tener en cuenta los almacenes, el proceso más óptimo sería M1-M3-M2, que daría 23 pasos. Pero como M1 es el almacén más alejado en cualquier momento para la distancia Manhattan, es el último que se recoge. \n",
    "Si se prueban a eliminar las paredes de las posiciones (2,1) y (2,2), el algoritmo también hace los pasos M2-M3-M1. ¿Sería más óptimo si, en este caso, hiciese el orden de M1-M3-M2? Es cierto que da más pasos al principio a la hora de llegar a M1, pero después, al ir a M3 y a M2, daría menos pasos y sería, en términos globales, más eficiente.\n",
    "En cualquier caso, se prima la rapidez de obtención del plan a su optimización, por lo que la decisión se realiza en base a la menor distancia de Manhattan entre el robot y la posición a la que se desea ir, y esto, en ciertas ocasiones, podrá llevar a la resolución del problema de manera menos óptima que otro proceso de planificación más deliberativo."
   ]
  },
  {
   "cell_type": "markdown",
   "metadata": {
    "id": "tiQtno-Y_vYp"
   },
   "source": [
    "# **5) Referencias bibliográficas**"
   ]
  },
  {
   "cell_type": "markdown",
   "metadata": {
    "id": "kD35_fL4__1L"
   },
   "source": [
    "- Guerra, A. (2010). Pathfinding A* en Python. Parte II. Razón Artificial. http://razonartificial.com/2010/04/pathfinding-a-en-python-parte-ii/\n",
    "\n",
    "- Roy, B. (2019). A-Star (A*) Search Algorithm. Towards Data Science. https://towardsdatascience.com/a-star-a-search-algorithm-eb495fb156bb\n",
    "\n",
    "\n"
   ]
  }
 ],
 "metadata": {
  "colab": {
   "collapsed_sections": [],
   "name": "Copia de Actividad 1 - EL - Amazon Robots.ipynb",
   "provenance": []
  },
  "kernelspec": {
   "display_name": "Python 3",
   "language": "python",
   "name": "python3"
  },
  "language_info": {
   "codemirror_mode": {
    "name": "ipython",
    "version": 3
   },
   "file_extension": ".py",
   "mimetype": "text/x-python",
   "name": "python",
   "nbconvert_exporter": "python",
   "pygments_lexer": "ipython3",
   "version": "3.8.3"
  }
 },
 "nbformat": 4,
 "nbformat_minor": 1
}
